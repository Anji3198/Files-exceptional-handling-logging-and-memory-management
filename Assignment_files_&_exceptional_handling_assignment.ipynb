{
  "nbformat": 4,
  "nbformat_minor": 0,
  "metadata": {
    "colab": {
      "provenance": []
    },
    "kernelspec": {
      "name": "python3",
      "display_name": "Python 3"
    },
    "language_info": {
      "name": "python"
    }
  },
  "cells": [
    {
      "cell_type": "markdown",
      "source": [
        "#**Theory Questions**"
      ],
      "metadata": {
        "id": "iKrOnE23UiW0"
      }
    },
    {
      "cell_type": "markdown",
      "source": [
        "1 - What is the difference between interpreted and compiled languages?\n",
        "- Compiled languages are translated into machine code before execution(ex.- C, C++). It is faster but need a compile step.\n",
        "- Interpreted languages are translated line-by-line during execution (e.g., Python, JavaScript). It is slower, but easier to test and debug."
      ],
      "metadata": {
        "id": "o4M68tjJUqIY"
      }
    },
    {
      "cell_type": "markdown",
      "source": [
        "2 - What is exception handling in Python?\n",
        "- Exception handling in Python is a way to catch and handle errors using `try`, `except`, `finally`, and `else` blocks — so your program doesn’t crash."
      ],
      "metadata": {
        "id": "QOOf_uwOVlJT"
      }
    },
    {
      "cell_type": "markdown",
      "source": [
        "3 - What is the purpose of the finally block in exception handling?\n",
        "- The `finally` block is used to always execute cleanup code, no matter what — whether an exception was raised or not.\n",
        "-\n",
        "```\n",
        "# try:\n",
        "    x = 1 / 0\n",
        "except ZeroDivisionError:\n",
        "    print(\"Error!\")\n",
        "finally:\n",
        "    print(\"This always runs.\")\n",
        "\n",
        "```\n",
        "\n",
        "\n",
        "\n",
        "\n",
        "\n"
      ],
      "metadata": {
        "id": "2tywevLLV4WF"
      }
    },
    {
      "cell_type": "markdown",
      "source": [
        "4 - What is logging in Python?\n",
        "- Logging in Python is a way to track events that happen while a program runs. It helps with debugging, monitoring, and troubleshooting.\n",
        "\n",
        "- Instead of using `print()`, you use the `logging` module."
      ],
      "metadata": {
        "id": "KzXVV6BMWfHa"
      }
    },
    {
      "cell_type": "markdown",
      "source": [
        "5 - What is the significance of the `__del__` method in Python?\n",
        "- The `__del__` method in Python is a destructor — it’s called when an object is about to be destroyed (usually when it's garbage collected).\n",
        "- It's purpose to cleanup resources like files or networks."
      ],
      "metadata": {
        "id": "MIZLZlhfWy95"
      }
    },
    {
      "cell_type": "markdown",
      "source": [
        "6 - What is the difference between import and from ... import in Python?\n",
        "- `Import module`: It imports the whole module. You access functions with `module.name`.\n",
        "- `from module import name`: It imports specific parts directly. No need to prefix with module name."
      ],
      "metadata": {
        "id": "FXc4LG8-Xt34"
      }
    },
    {
      "cell_type": "markdown",
      "source": [
        "7 -  How can you handle multiple exceptions in Python?\n",
        "- Multiple `except` blocks:\n",
        "\n",
        "```\n",
        "try:\n",
        "    # code\n",
        "except ValueError:\n",
        "    print(\"Value error\")\n",
        "except ZeroDivisionError:\n",
        "    print(\"Division by zero\")\n",
        "\n",
        "```\n",
        "\n",
        "- Single `except` with a tuple:\n",
        "\n",
        "\n",
        "\n",
        "```\n",
        "try:\n",
        "    # code\n",
        "except (ValueError, ZeroDivisionError):\n",
        "    print(\"Value or division error\")\n",
        "\n",
        "```\n",
        "\n"
      ],
      "metadata": {
        "id": "KqGT2wMgYdnj"
      }
    },
    {
      "cell_type": "markdown",
      "source": [
        "8 - What is the purpose of the with statement when handling files in Python?\n",
        "- The `with` statement is used to safely handle files in Python. It automatically closes the file after the block is done — even if an error occurs.\n",
        "\n",
        "\n"
      ],
      "metadata": {
        "id": "l5uiV2ikZXAq"
      }
    },
    {
      "cell_type": "markdown",
      "source": [
        "9 - What is the difference between multithreading and multiprocessing?\n",
        "- Multithreading: Multiple threads run within the same process.Good for I/O-bound tasks (e.g., reading files, network calls).\n",
        "It Shares memory, but limited by the Global Interpreter Lock (GIL) in CPython.\n",
        "\n",
        "- Multiprocessing: Runs multiple processes, each with its own memory space. Best for CPU-bound tasks (e.g., heavy computations).\n",
        "It Bypasses GIL, uses multiple CPU cores."
      ],
      "metadata": {
        "id": "1aVqnS0dZrFd"
      }
    },
    {
      "cell_type": "markdown",
      "source": [
        "10 - What are the advantages of using logging in a program?\n",
        "- It helps in monitoring program flow nad behavior.\n",
        "- It is easier to fing and fix bugs than with `print()`.\n",
        "- It can write logs to files for later analysis.\n",
        "- It supports different severity levels(`DEBUG`, `INFO`, `WARNING`, etc.)\n",
        "-It easily control what gets logged and where(file, console, etc.)"
      ],
      "metadata": {
        "id": "Y2Lwxw-IaLTZ"
      }
    },
    {
      "cell_type": "markdown",
      "source": [
        "11 - What is memory management in Python?\n",
        "- Memory management in Python automatically handles the allocation and deallocation of memory. It uses reference counting and garbage collection to clean up unused objects, ensuring efficient memory use without manual intervention. Python also employs memory pools for small objects to optimize performance."
      ],
      "metadata": {
        "id": "CboeNu09bPOw"
      }
    },
    {
      "cell_type": "markdown",
      "source": [
        "12 - What are the basic steps involved in exception handling in Python?\n",
        "- `try` block: It place  the code that might raise and exception inside this block.\n",
        "- `except` block: Catch and handle the exception if it occurs.\n",
        "\n",
        "- `else` block (optional): Execute if no exception is raised in the try block.\n",
        "\n",
        "- `finally` block (optional): Always execute, regardless of whether an exception occurred, useful for cleanup.\n"
      ],
      "metadata": {
        "id": "bpB2_NoRbgeB"
      }
    },
    {
      "cell_type": "markdown",
      "source": [
        "13 - Why is memory management important in Python?\n",
        "- Memory management in Python is important because it ensures efficient use of resources, prevents memory leaks, improves performance, and automates cleanup with garbage collection. This helps keep programs stable, fast, and easier to maintain."
      ],
      "metadata": {
        "id": "0Tfz93lQcaSM"
      }
    },
    {
      "cell_type": "markdown",
      "source": [
        "14 - What is the role of try and except in exception handling?\n",
        "- `try`: Defines the block of code that might raise an exception.\n",
        "\n",
        "- `except`: Catches and handles the exception if it occurs, preventing the program from crashing."
      ],
      "metadata": {
        "id": "ckWSWdnCdKuW"
      }
    },
    {
      "cell_type": "markdown",
      "source": [
        "15 - How does Python's garbage collection system work?\n",
        "- Python's garbage collection system works by using reference counting to track objects and automatically free memory when no references remain. It also uses a garbage collector to detect and clean up cyclic references (objects referring to each other in a loop), which reference counting can't handle alone."
      ],
      "metadata": {
        "id": "iFxXVnBfd3wP"
      }
    },
    {
      "cell_type": "markdown",
      "source": [
        "16 - What is the purpose of the else block in exception handling?\n",
        "- The else block in exception handling is executed if no exception occurs in the try block. It allows you to run code that should only happen when everything in the try block succeeds."
      ],
      "metadata": {
        "id": "r1ve-S3zfAjv"
      }
    },
    {
      "cell_type": "markdown",
      "source": [
        "17 -What are the common logging levels in Python?\n",
        "\n",
        "- `DEBUG`: Detailed information, typically for diagnosing problems.\n",
        "\n",
        "- `INFO`: General information about program execution.\n",
        "\n",
        "- `WARNING`: Indicates something unexpected happened, but the program can still run.\n",
        "\n",
        "- `ERROR`: A more serious problem occurred, but the program can still function.\n",
        "\n",
        "- `CRITICAL`: A very serious error, usually indicating that the program can't continue."
      ],
      "metadata": {
        "id": "4OrEvOVhf5TI"
      }
    },
    {
      "cell_type": "markdown",
      "source": [
        "18 - What is the difference between os.fork() and multiprocessing in Python?\n",
        "- `os.fork()`: A low-level, Unix-only method to create a child process by duplicating the parent process. It shares memory between parent and child processes initially.\n",
        "\n",
        "- `multiprocessing`: A high-level, cross-platform module that creates separate processes with their own memory. It simplifies process management and works on Windows, Linux, and macOS."
      ],
      "metadata": {
        "id": "rI0Bf-S_gc5K"
      }
    },
    {
      "cell_type": "markdown",
      "source": [
        "19 - What is the importance of closing a file in Python?\n",
        " - Releases Resources: It frees up system resources like file handles, which are limited.\n",
        "\n",
        "- Prevents Data Loss: Ensures any data still in memory (e.g., buffered data) is written to the file before it's closed.\n",
        "\n",
        "- Avoids Memory Leaks: Keeps the program from holding onto unnecessary memory."
      ],
      "metadata": {
        "id": "n6ouWACeg_ca"
      }
    },
    {
      "cell_type": "markdown",
      "source": [
        "20 - What is the difference between `file.read()` and `file.readline()` in Python?\n",
        "- `file.read()`:\n",
        "\n",
        "- Reads the entire content of the file as a single string.\n",
        "\n",
        "- Example: `content = file.read()`\n",
        "\n",
        "- `file.readline()`:\n",
        "\n",
        "- Reads one line at a time from the file.\n",
        "\n",
        "- Example: `line = file.readline()`"
      ],
      "metadata": {
        "id": "-IJAuSYlhjY5"
      }
    },
    {
      "cell_type": "markdown",
      "source": [
        "21 What is the logging module in Python used for?\n",
        "- The logging module in Python is used to record messages about a program’s execution — useful for debugging, monitoring, and tracking errors."
      ],
      "metadata": {
        "id": "O7w45Nlziulb"
      }
    },
    {
      "cell_type": "markdown",
      "source": [
        "22  What is the os module in Python used for in file handling?\n",
        "- The `os` module in Python is used in file handling to interact with the operating system. It provides functions to work with files, directories, and paths."
      ],
      "metadata": {
        "id": "afE89wuvjMrG"
      }
    },
    {
      "cell_type": "markdown",
      "source": [
        "23  What are the challenges associated with memory management in Python?\n",
        "- Memory leaks from unused or referenced objects.\n",
        "\n",
        "- Garbage collection overhead may affect performance.\n",
        "\n",
        "- Circular references can delay memory cleanup.\n",
        "\n",
        "- Memory fragmentation reduces efficiency.\n",
        "\n",
        "- GIL limits multi-threaded memory use in CPU-bound tasks."
      ],
      "metadata": {
        "id": "i3zb87gGjkLI"
      }
    },
    {
      "cell_type": "markdown",
      "source": [
        "24 How do you raise an exception manually in Python?\n",
        "\n",
        "- You can raise an exception manually in Python using the raise keyword.\n",
        "- Example:\n",
        "\n",
        "\n",
        "```\n",
        "raise ValueError(\"Invalid input!\")\n",
        "\n",
        "```\n",
        "\n"
      ],
      "metadata": {
        "id": "6ufgKg3KkEb8"
      }
    },
    {
      "cell_type": "markdown",
      "source": [
        "25 Why is it important to use multithreading in certain applications?\n",
        "- Multithreading is important for faster, more efficient execution of I/O-bound tasks, improving responsiveness and allowing multiple operations to run concurrently without blocking each other."
      ],
      "metadata": {
        "id": "T0SNTycAkzVR"
      }
    },
    {
      "cell_type": "markdown",
      "source": [
        "#**Practical Questions**"
      ],
      "metadata": {
        "id": "5cGZOzG-lB3q"
      }
    },
    {
      "cell_type": "code",
      "source": [
        "# 1 - How can you open a file for writing in Python and write a string to it?\n",
        "\n",
        "file = open('file.txt', 'w')\n",
        "file.write(\"Hello, Python!\")\n",
        "file.close()\n",
        "\n"
      ],
      "metadata": {
        "id": "2U3hSVKnlQhg"
      },
      "execution_count": 5,
      "outputs": []
    },
    {
      "cell_type": "code",
      "source": [
        "# 2 -  Write a Python program to read the contents of a file and print each line.\n",
        "\n",
        "# Open the file in read mode\n",
        "try:\n",
        "    with open('my_file.txt', 'r') as file:\n",
        "        # Read the file line by line.\n",
        "        for line in file:\n",
        "            # Print each line.\n",
        "            print(line, end=\"\") # end=\"\" prevents extra newline\n",
        "except FileNotFoundError:\n",
        "    print(\"The file 'my_file.txt' was not found.\")\n",
        "\n"
      ],
      "metadata": {
        "colab": {
          "base_uri": "https://localhost:8080/"
        },
        "id": "BxyHW-mhnE-J",
        "outputId": "47b823ed-ccc0-45df-c2c5-5b02d6e2d6ad"
      },
      "execution_count": 7,
      "outputs": [
        {
          "output_type": "stream",
          "name": "stdout",
          "text": [
            "The file 'my_file.txt' was not found.\n"
          ]
        }
      ]
    },
    {
      "cell_type": "code",
      "source": [
        "# 3 - How would you handle a case where the file doesn't exist while trying to open it for reading?\n",
        "\n",
        "class MathOperations:\n",
        "    @classmethod\n",
        "    def add_numbers(cls, x, y):\n",
        "        return x + y\n",
        "\n",
        "    @staticmethod\n",
        "    def subtract_numbers(x, y):\n",
        "        return x - y\n",
        "\n",
        "# Example usage\n",
        "result_add = MathOperations.add_numbers(5, 3)\n",
        "print(f\"Addition: {result_add}\")  # Output: Addition: 8\n",
        "\n",
        "result_subtract = MathOperations.subtract_numbers(10, 4)\n",
        "print(f\"Subtraction: {result_subtract}\")  # Output: Subtraction: 6\n",
        "\n",
        "\n",
        "# Open a file for writing. 'w' mode will create the file if it doesn't exist,\n",
        "# or overwrite it if it does.\n",
        "with open('my_file.txt', 'w') as file:\n",
        "    # Write a string to the file.\n",
        "    file.write('This is a string to write to the file.\\n')\n",
        "    file.write('This is another line.\\n')\n",
        "\n",
        "# The file is automatically closed when exiting the 'with' block.\n",
        "\n",
        "\n",
        "# Open the file in read mode ('r' is the default mode).\n",
        "try:\n",
        "    with open('my_file.txt', 'r') as file:\n",
        "        # Read the file line by line.\n",
        "        for line in file:\n",
        "            # Print each line.\n",
        "            print(line, end=\"\") # end=\"\" prevents extra newline\n",
        "except FileNotFoundError:\n",
        "    print(\"The file 'my_file.txt' was not found.\")\n"
      ],
      "metadata": {
        "colab": {
          "base_uri": "https://localhost:8080/"
        },
        "id": "UOEUOG-zocOn",
        "outputId": "d48a399b-d5d1-49b3-b128-3b30a9b7b7e5"
      },
      "execution_count": 8,
      "outputs": [
        {
          "output_type": "stream",
          "name": "stdout",
          "text": [
            "Addition: 8\n",
            "Subtraction: 6\n",
            "This is a string to write to the file.\n",
            "This is another line.\n"
          ]
        }
      ]
    },
    {
      "cell_type": "code",
      "source": [
        "# 4 - Write a Python script that reads from one file and writes its content to another file.\n",
        "\n",
        "# Open the source file in read mode and the destination file in write mode\n",
        "def copy_file_content(source_file, destination_file):\n",
        "    try:\n",
        "        with open(source_file, 'r') as source:\n",
        "            with open(destination_file, 'w') as destination:\n",
        "                for line in source:\n",
        "                    destination.write(line)\n",
        "        print(f\"File '{source_file}' copied to '{destination_file}' successfully.\")\n",
        "    except FileNotFoundError:\n",
        "        print(f\"Error: Source file '{source_file}' not found.\")\n",
        "    except Exception as e:\n",
        "        print(f\"An error occurred: {e}\")\n",
        "\n",
        "source_file_path = 'my_file.txt'  # Replace with the actual path of your source file\n",
        "destination_file_path = 'new_file.txt' # Replace with the desired path of the new file\n",
        "copy_file_content(source_file_path, destination_file_path)\n"
      ],
      "metadata": {
        "colab": {
          "base_uri": "https://localhost:8080/"
        },
        "id": "yYcoUIcJpBdx",
        "outputId": "81bbafdf-19b4-41f1-cbd2-47c4cf1451f4"
      },
      "execution_count": 12,
      "outputs": [
        {
          "output_type": "stream",
          "name": "stdout",
          "text": [
            "File 'my_file.txt' copied to 'new_file.txt' successfully.\n"
          ]
        }
      ]
    },
    {
      "cell_type": "code",
      "source": [
        "# 5 - How would you catch and handle division by zero error in Python?\n",
        "\n",
        "def divide_numbers(x, y):\n",
        "    try:\n",
        "        result = x / y\n",
        "        return result\n",
        "    except ZeroDivisionError:\n",
        "        print(\"Error: Division by zero\")\n",
        "        return None  # Or return a default value like float('inf') or 0\n",
        "\n",
        "# Example usage\n",
        "result = divide_numbers(10, 2)\n",
        "if result is not None:\n",
        "    print(f\"Result: {result}\")\n",
        "\n",
        "result = divide_numbers(5, 0)\n",
        "if result is not None:\n",
        "    print(f\"Result: {result}\")"
      ],
      "metadata": {
        "colab": {
          "base_uri": "https://localhost:8080/"
        },
        "id": "LVqvYwCyp1Po",
        "outputId": "bdec130e-6c87-491d-a5c7-62078bdda23d"
      },
      "execution_count": 13,
      "outputs": [
        {
          "output_type": "stream",
          "name": "stdout",
          "text": [
            "Result: 5.0\n",
            "Error: Division by zero\n"
          ]
        }
      ]
    },
    {
      "cell_type": "code",
      "source": [
        "# 6 - Write a Python program that logs an error message to a log file when a division by zero exception occurs\n",
        "\n",
        "import logging\n",
        "\n",
        "def divide_numbers(x, y):\n",
        "    try:\n",
        "        result = x / y\n",
        "        return result\n",
        "    except ZeroDivisionError:\n",
        "        # Configure logging\n",
        "        logging.basicConfig(filename='error.log', level=logging.ERROR, format='%(asctime)s - %(levelname)s - %(message)s')\n",
        "        logging.error(\"Division by zero occurred\")\n",
        "        return None\n",
        "\n",
        "# Example usage\n",
        "result = divide_numbers(10, 2)\n",
        "if result is not None:\n",
        "    print(f\"Result: {result}\")\n",
        "\n",
        "result = divide_numbers(5, 0)\n",
        "if result is not None:\n",
        "    print(f\"Result: {result}\")\n"
      ],
      "metadata": {
        "colab": {
          "base_uri": "https://localhost:8080/"
        },
        "id": "e8Bppv7_qfhy",
        "outputId": "571879e2-ee48-41b1-c4da-d1f4834c3f49"
      },
      "execution_count": 14,
      "outputs": [
        {
          "output_type": "stream",
          "name": "stderr",
          "text": [
            "ERROR:root:Division by zero occurred\n"
          ]
        },
        {
          "output_type": "stream",
          "name": "stdout",
          "text": [
            "Result: 5.0\n"
          ]
        }
      ]
    },
    {
      "cell_type": "code",
      "source": [
        "# 7 -  How do you log information at different levels (INFO, ERROR, WARNING) in Python using the logging module?\n",
        "\n",
        "import logging\n",
        "\n",
        "# Configure logging\n",
        "logging.basicConfig(filename='app.log', level=logging.DEBUG, format='%(asctime)s - %(levelname)s - %(message)s')\n",
        "\n",
        "def divide_numbers(x, y):\n",
        "    try:\n",
        "        result = x / y\n",
        "        logging.info(f\"Division successful: {x} / {y} = {result}\") # Log at INFO level\n",
        "        return result\n",
        "    except ZeroDivisionError:\n",
        "        logging.error(\"Division by zero occurred\") # Log at ERROR level\n",
        "        return None\n",
        "    except Exception as e:\n",
        "        logging.warning(f\"An unexpected error occurred: {e}\") # Log at WARNING level\n",
        "        return None\n",
        "\n",
        "# Example usage\n",
        "result = divide_numbers(10, 2)\n",
        "if result is not None:\n",
        "    print(f\"Result: {result}\")\n",
        "\n",
        "result = divide_numbers(5, 0)\n",
        "if result is not None:\n",
        "    print(f\"Result: {result}\")\n",
        "\n",
        "result = divide_numbers(5, 'a') # Example of an unexpected error\n",
        "if result is not None:\n",
        "    print(f\"Result: {result}\")\n"
      ],
      "metadata": {
        "colab": {
          "base_uri": "https://localhost:8080/"
        },
        "id": "-RLckaLcq6-n",
        "outputId": "8520e770-a60f-4f42-8997-8d03bb02d722"
      },
      "execution_count": 15,
      "outputs": [
        {
          "output_type": "stream",
          "name": "stderr",
          "text": [
            "ERROR:root:Division by zero occurred\n",
            "WARNING:root:An unexpected error occurred: unsupported operand type(s) for /: 'int' and 'str'\n"
          ]
        },
        {
          "output_type": "stream",
          "name": "stdout",
          "text": [
            "Result: 5.0\n"
          ]
        }
      ]
    },
    {
      "cell_type": "code",
      "source": [
        "# 8 Write a program to handle a file opening error using exception handling?\n",
        "\n",
        "def file_handling_example(filename):\n",
        "    try:\n",
        "        with open(filename, 'r') as file:\n",
        "            contents = file.read()\n",
        "            print(contents)\n",
        "    except FileNotFoundError:\n",
        "        print(f\"Error: File '{filename}' not found.\")\n",
        "    except Exception as e:\n",
        "        print(f\"An unexpected error occurred: {e}\")\n",
        "\n",
        "# Example usage\n",
        "file_handling_example(\"my_file.txt\")  # Replace \"my_file.txt\" with your desired filename\n"
      ],
      "metadata": {
        "colab": {
          "base_uri": "https://localhost:8080/"
        },
        "id": "RZu7nGZKrhKs",
        "outputId": "275d04e8-5751-451d-d8bf-ba568043d48a"
      },
      "execution_count": 16,
      "outputs": [
        {
          "output_type": "stream",
          "name": "stdout",
          "text": [
            "This is a string to write to the file.\n",
            "This is another line.\n",
            "\n"
          ]
        }
      ]
    },
    {
      "cell_type": "code",
      "source": [
        "# 9 -How can you read a file line by line and store its content in a list in Python?\n",
        "\n",
        "def read_file_into_list(filepath):\n",
        "    \"\"\"Reads a file line by line and stores its content in a list.\n",
        "\n",
        "    Args:\n",
        "        filepath: The path to the file.\n",
        "\n",
        "    Returns:\n",
        "        A list of strings, where each string is a line from the file.\n",
        "        Returns an empty list if the file is not found or an error occurs.\n",
        "    \"\"\"\n",
        "    lines = []\n",
        "    try:\n",
        "        with open(filepath, 'r') as file:\n",
        "            for line in file:\n",
        "                lines.append(line.strip())  # Remove leading/trailing whitespace\n",
        "    except FileNotFoundError:\n",
        "        print(f\"Error: File '{filepath}' not found.\")\n",
        "    except Exception as e:\n",
        "        print(f\"An unexpected error occurred: {e}\")\n",
        "    return lines\n",
        "\n",
        "# Example usage (assuming 'my_file.txt' exists from the previous code)\n",
        "file_content = read_file_into_list('my_file.txt')\n",
        "file_content\n",
        "\n",
        "\n"
      ],
      "metadata": {
        "colab": {
          "base_uri": "https://localhost:8080/"
        },
        "id": "rQfq1E_-sMwy",
        "outputId": "5a3bf8bf-c902-4b34-8f39-26d70cd674d4"
      },
      "execution_count": 17,
      "outputs": [
        {
          "output_type": "execute_result",
          "data": {
            "text/plain": [
              "['This is a string to write to the file.', 'This is another line.']"
            ]
          },
          "metadata": {},
          "execution_count": 17
        }
      ]
    },
    {
      "cell_type": "code",
      "source": [
        "# 10 -How can you append data to an existing file in Python?\n",
        "\n",
        "def append_to_file(filename, data):\n",
        "    \"\"\"Appends data to a file.\n",
        "\n",
        "    Args:\n",
        "      filename: The name of the file to append to.\n",
        "      data: The data to append.\n",
        "    \"\"\"\n",
        "    try:\n",
        "        with open(filename, 'a') as file:  # Open in append mode ('a')\n",
        "            file.write(data)\n",
        "    except FileNotFoundError:\n",
        "        print(f\"Error: File '{filename}' not found.\")\n",
        "    except Exception as e:\n",
        "        print(f\"An error occurred: {e}\")\n",
        "\n",
        "# Example usage:\n",
        "append_to_file('my_file.txt', 'This is new data to append.\\n')\n"
      ],
      "metadata": {
        "id": "OtHNjfputR83"
      },
      "execution_count": 26,
      "outputs": []
    },
    {
      "cell_type": "code",
      "source": [
        "# 11 Write a Python program that uses a try-except block to handle an error when attempting to access a\n",
        "# dictionary key that doesn't exist?\n",
        "\n",
        "my_dict = {\"a\": 1, \"b\": 2}\n",
        "\n",
        "try:\n",
        "  value = my_dict[\"c\"]\n",
        "  print(value)\n",
        "except KeyError:\n",
        "  print(\"Error: Key 'c' not found in the dictionary.\")"
      ],
      "metadata": {
        "colab": {
          "base_uri": "https://localhost:8080/"
        },
        "id": "hVQS3tPruTK4",
        "outputId": "b0bd65ce-47a6-4cb3-868f-0090ac948a80"
      },
      "execution_count": 27,
      "outputs": [
        {
          "output_type": "stream",
          "name": "stdout",
          "text": [
            "Error: Key 'c' not found in the dictionary.\n"
          ]
        }
      ]
    },
    {
      "cell_type": "code",
      "source": [
        "# 12 -  Write a program that demonstrates using multiple except blocks to handle different types of exceptions.\n",
        "\n",
        "def divide_numbers(x, y):\n",
        "    try:\n",
        "        result = x / y\n",
        "        return result\n",
        "    except ZeroDivisionError:\n",
        "        print(\"Error: Division by zero\")\n",
        "        return None\n",
        "    except TypeError:\n",
        "        print(\"Error: Invalid input types for division.\")\n",
        "        return None\n",
        "\n",
        "# Example usage\n",
        "result = divide_numbers(10, 2)\n",
        "if result is not None:\n",
        "    print(f\"Result: {result}\")\n",
        "\n",
        "result = divide_numbers(5, 0)\n",
        "if result is not None:\n",
        "    print(f\"Result: {result}\")\n",
        "\n",
        "result = divide_numbers(5, 'a')  # Example of a TypeError\n",
        "if result is not None:\n",
        "    print(f\"Result: {result}\")"
      ],
      "metadata": {
        "colab": {
          "base_uri": "https://localhost:8080/"
        },
        "id": "5P7VH3dzu-nh",
        "outputId": "fe9306cd-28bf-4599-de70-ef35e0d293c8"
      },
      "execution_count": 28,
      "outputs": [
        {
          "output_type": "stream",
          "name": "stdout",
          "text": [
            "Result: 5.0\n",
            "Error: Division by zero\n",
            "Error: Invalid input types for division.\n"
          ]
        }
      ]
    },
    {
      "cell_type": "code",
      "source": [
        "# 13 How would you check if a file exists before attempting to read it in Python/\n",
        "\n",
        "import os\n",
        "\n",
        "file_path = 'example.txt'\n",
        "\n",
        "# Check if the file exists\n",
        "if os.path.exists(file_path) and os.path.isfile(file_path):\n",
        "    with open(file_path, 'r') as file:\n",
        "        content = file.read()\n",
        "        print(content)\n",
        "else:\n",
        "    print(f\"The file '{file_path}' does not exist.\")\n",
        "\n"
      ],
      "metadata": {
        "colab": {
          "base_uri": "https://localhost:8080/"
        },
        "id": "43EMUgNXvuH_",
        "outputId": "5aaa82e5-ec2e-41d4-e579-012862237765"
      },
      "execution_count": 29,
      "outputs": [
        {
          "output_type": "stream",
          "name": "stdout",
          "text": [
            "The file 'example.txt' does not exist.\n"
          ]
        }
      ]
    },
    {
      "cell_type": "code",
      "source": [
        "# 14  Write a program that uses the logging module to log both informational and error messages\n",
        "\n",
        "import logging\n",
        "\n",
        "def main():\n",
        "    # Configure the logging system\n",
        "    logging.basicConfig(filename='my_program.log', level=logging.INFO,\n",
        "                        format='%(asctime)s - %(levelname)s - %(message)s')\n",
        "\n",
        "    # Log an informational message\n",
        "    logging.info(\"Program started.\")\n",
        "\n",
        "    try:\n",
        "        # Simulate an error\n",
        "        result = 10 / 0\n",
        "    except ZeroDivisionError:\n",
        "        # Log the error\n",
        "        logging.error(\"An error occurred: Division by zero\", exc_info=True)\n",
        "\n",
        "    # Log another informational message\n",
        "    logging.info(\"Program finished.\")\n",
        "\n",
        "if __name__ == \"__main__\":\n",
        "    main()\n"
      ],
      "metadata": {
        "colab": {
          "base_uri": "https://localhost:8080/"
        },
        "id": "IusdTqTZwekw",
        "outputId": "bd02adc6-abd3-4d23-d3b6-87c659107149"
      },
      "execution_count": 30,
      "outputs": [
        {
          "output_type": "stream",
          "name": "stderr",
          "text": [
            "ERROR:root:An error occurred: Division by zero\n",
            "Traceback (most recent call last):\n",
            "  File \"<ipython-input-30-4098418c2bb4>\", line 15, in main\n",
            "    result = 10 / 0\n",
            "             ~~~^~~\n",
            "ZeroDivisionError: division by zero\n"
          ]
        }
      ]
    },
    {
      "cell_type": "code",
      "source": [
        "# 15 Write a Python program that prints the content of a file and handles the case when the file is empty\n",
        "\n",
        "import os\n",
        "\n",
        "def print_file_content(filepath):\n",
        "    \"\"\"Prints the content of a file, handling empty files.\n",
        "\n",
        "    Args:\n",
        "        filepath: The path to the file.\n",
        "    \"\"\"\n",
        "    try:\n",
        "        with open(filepath, 'r') as file:\n",
        "            content = file.read()\n",
        "            if not content:\n",
        "                print(\"The file is empty.\")\n",
        "            else:\n",
        "                print(content)\n",
        "    except FileNotFoundError:\n",
        "        print(f\"Error: File '{filepath}' not found.\")\n",
        "    except Exception as e:\n",
        "        print(f\"An error occurred: {e}\")\n"
      ],
      "metadata": {
        "id": "JDbKFi5hwpJg"
      },
      "execution_count": 32,
      "outputs": []
    },
    {
      "cell_type": "code",
      "source": [
        "# 16 Demonstrate how to use memory profiling to check the memory usage of a small program.\n",
        "\n",
        "!pip install memory_profiler\n",
        "\n",
        "%load_ext memory_profiler\n",
        "\n"
      ],
      "metadata": {
        "colab": {
          "base_uri": "https://localhost:8080/"
        },
        "id": "vBSc0xMIwxLN",
        "outputId": "ec8f710e-5874-4996-c2e2-10bc047eee96"
      },
      "execution_count": 33,
      "outputs": [
        {
          "output_type": "stream",
          "name": "stdout",
          "text": [
            "Collecting memory_profiler\n",
            "  Downloading memory_profiler-0.61.0-py3-none-any.whl.metadata (20 kB)\n",
            "Requirement already satisfied: psutil in /usr/local/lib/python3.11/dist-packages (from memory_profiler) (5.9.5)\n",
            "Downloading memory_profiler-0.61.0-py3-none-any.whl (31 kB)\n",
            "Installing collected packages: memory_profiler\n",
            "Successfully installed memory_profiler-0.61.0\n"
          ]
        }
      ]
    },
    {
      "cell_type": "code",
      "source": [
        "# 17 Write a Python program to create and write a list of numbers to a file, one number per line\n",
        "\n",
        "# List of numbers\n",
        "numbers = [10, 20, 30, 40, 50]\n",
        "\n",
        "# Open the file in write mode\n",
        "with open('numbers.txt', 'w') as file:\n",
        "    for number in numbers:\n",
        "        file.write(f\"{number}\\n\")\n",
        "\n"
      ],
      "metadata": {
        "id": "BOclzMn1w6gp"
      },
      "execution_count": 39,
      "outputs": []
    }
  ]
}